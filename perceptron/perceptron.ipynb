{
 "cells": [
  {
   "cell_type": "code",
   "execution_count": 2,
   "metadata": {},
   "outputs": [],
   "source": [
    "import numpy as np\n",
    "import matplotlib.pyplot as plt\n",
    "import pandas as pd\n"
   ]
  },
  {
   "cell_type": "code",
   "execution_count": 8,
   "metadata": {},
   "outputs": [],
   "source": [
    "\n",
    "class Perceptron:\n",
    "    def __init__(self, lr=0.01):\n",
    "        self.lr = lr\n",
    "        self.weights = None\n",
    "        self.bias = None\n",
    "\n",
    "    def _activate(self, x):\n",
    "        return np.where(x >= 0, 1, 0)\n",
    "\n",
    "    def _forward(self, x, w):\n",
    "        return x @ w + self.bias\n",
    "\n",
    "    def fit(self, X, y, epochs=10):\n",
    "        self.weights = np.random.random(X.shape[1])\n",
    "        self.bias = np.random.random(1)\n",
    "\n",
    "        for epoch in range(epochs):\n",
    "            print(f\"Epoch: {epoch+1}/{epochs}\", end=\"\")\n",
    "            print(30 * \"-\")\n",
    "\n",
    "            for x_row, y_true in zip(X, y):\n",
    "                z = self._forward(x_row, self.weights)\n",
    "                y_pred = self._activate(z)\n",
    "                print(f\"X: {x_row}, True: {y_true}, Predicted: {y_pred}\")\n",
    "                if y_pred != y_true:\n",
    "                    for ind, x in enumerate(x_row):\n",
    "                        self.weights[ind] = self.weights[ind] + self.lr * (y_true - y_pred) * x\n",
    "                    self.bias = self.bias + self.lr * (y_true - y_pred)\n",
    "                    print(f\"Updated Weights: {self.weights} and Bias: {self.bias}\")\n",
    "\n",
    "    def predict(self, X):\n",
    "        z = self._forward(X, self.weights)\n",
    "        y = self._activate(z)\n",
    "        return y"
   ]
  },
  {
   "cell_type": "code",
   "execution_count": 9,
   "metadata": {},
   "outputs": [
    {
     "name": "stdout",
     "output_type": "stream",
     "text": [
      "Epoch: 1/5------------------------------\n",
      "X: [0 0], True: 0, Predicted: [1]\n",
      "Updated Weights: [0.5479429  0.58002308] and Bias: [0.04770745]\n",
      "X: [0 1], True: 0, Predicted: [1]\n",
      "Updated Weights: [0.5479429  0.48002308] and Bias: [-0.05229255]\n",
      "X: [1 0], True: 0, Predicted: [1]\n",
      "Updated Weights: [0.4479429  0.48002308] and Bias: [-0.15229255]\n",
      "X: [1 1], True: 1, Predicted: [1]\n",
      "Epoch: 2/5------------------------------\n",
      "X: [0 0], True: 0, Predicted: [0]\n",
      "X: [0 1], True: 0, Predicted: [1]\n",
      "Updated Weights: [0.4479429  0.38002308] and Bias: [-0.25229255]\n",
      "X: [1 0], True: 0, Predicted: [1]\n",
      "Updated Weights: [0.3479429  0.38002308] and Bias: [-0.35229255]\n",
      "X: [1 1], True: 1, Predicted: [1]\n",
      "Epoch: 3/5------------------------------\n",
      "X: [0 0], True: 0, Predicted: [0]\n",
      "X: [0 1], True: 0, Predicted: [1]\n",
      "Updated Weights: [0.3479429  0.28002308] and Bias: [-0.45229255]\n",
      "X: [1 0], True: 0, Predicted: [0]\n",
      "X: [1 1], True: 1, Predicted: [1]\n",
      "Epoch: 4/5------------------------------\n",
      "X: [0 0], True: 0, Predicted: [0]\n",
      "X: [0 1], True: 0, Predicted: [0]\n",
      "X: [1 0], True: 0, Predicted: [0]\n",
      "X: [1 1], True: 1, Predicted: [1]\n",
      "Epoch: 5/5------------------------------\n",
      "X: [0 0], True: 0, Predicted: [0]\n",
      "X: [0 1], True: 0, Predicted: [0]\n",
      "X: [1 0], True: 0, Predicted: [0]\n",
      "X: [1 1], True: 1, Predicted: [1]\n"
     ]
    },
    {
     "name": "stderr",
     "output_type": "stream",
     "text": [
      "/var/folders/z4/7np1khpd4hv91y__r6wtydmm0000gn/T/ipykernel_50443/614677742.py:27: DeprecationWarning: Conversion of an array with ndim > 0 to a scalar is deprecated, and will error in future. Ensure you extract a single element from your array before performing this operation. (Deprecated NumPy 1.25.)\n",
      "  self.weights[ind] = self.weights[ind] + self.lr * (y_true - y_pred) * x\n"
     ]
    }
   ],
   "source": [
    "and_gate = Perceptron(lr=0.1)\n",
    "and_gate_inp = np.array([[0,0],[0,1],[1,0],[1,1]])\n",
    "and_gate_op = np.array([0,0,0,1])\n",
    "and_gate.fit(and_gate_inp,and_gate_op,epochs=5)\n"
   ]
  },
  {
   "cell_type": "code",
   "execution_count": 18,
   "metadata": {},
   "outputs": [
    {
     "name": "stdout",
     "output_type": "stream",
     "text": [
      "Epoch: 1/10------------------------------\n",
      "X: [0 0], True: 0, Predicted: [1]\n",
      "Weights: [0.56361595 0.51024128] and Bias: [-0.09902219]\n",
      "X: [0 1], True: 1, Predicted: [1]\n",
      "X: [1 0], True: 1, Predicted: [1]\n",
      "X: [1 1], True: 1, Predicted: [1]\n",
      "Epoch: 2/10------------------------------\n",
      "X: [0 0], True: 0, Predicted: [0]\n",
      "X: [0 1], True: 1, Predicted: [1]\n",
      "X: [1 0], True: 1, Predicted: [1]\n",
      "X: [1 1], True: 1, Predicted: [1]\n",
      "Epoch: 3/10------------------------------\n",
      "X: [0 0], True: 0, Predicted: [0]\n",
      "X: [0 1], True: 1, Predicted: [1]\n",
      "X: [1 0], True: 1, Predicted: [1]\n",
      "X: [1 1], True: 1, Predicted: [1]\n",
      "Epoch: 4/10------------------------------\n",
      "X: [0 0], True: 0, Predicted: [0]\n",
      "X: [0 1], True: 1, Predicted: [1]\n",
      "X: [1 0], True: 1, Predicted: [1]\n",
      "X: [1 1], True: 1, Predicted: [1]\n",
      "Epoch: 5/10------------------------------\n",
      "X: [0 0], True: 0, Predicted: [0]\n",
      "X: [0 1], True: 1, Predicted: [1]\n",
      "X: [1 0], True: 1, Predicted: [1]\n",
      "X: [1 1], True: 1, Predicted: [1]\n",
      "Epoch: 6/10------------------------------\n",
      "X: [0 0], True: 0, Predicted: [0]\n",
      "X: [0 1], True: 1, Predicted: [1]\n",
      "X: [1 0], True: 1, Predicted: [1]\n",
      "X: [1 1], True: 1, Predicted: [1]\n",
      "Epoch: 7/10------------------------------\n",
      "X: [0 0], True: 0, Predicted: [0]\n",
      "X: [0 1], True: 1, Predicted: [1]\n",
      "X: [1 0], True: 1, Predicted: [1]\n",
      "X: [1 1], True: 1, Predicted: [1]\n",
      "Epoch: 8/10------------------------------\n",
      "X: [0 0], True: 0, Predicted: [0]\n",
      "X: [0 1], True: 1, Predicted: [1]\n",
      "X: [1 0], True: 1, Predicted: [1]\n",
      "X: [1 1], True: 1, Predicted: [1]\n",
      "Epoch: 9/10------------------------------\n",
      "X: [0 0], True: 0, Predicted: [0]\n",
      "X: [0 1], True: 1, Predicted: [1]\n",
      "X: [1 0], True: 1, Predicted: [1]\n",
      "X: [1 1], True: 1, Predicted: [1]\n",
      "Epoch: 10/10------------------------------\n",
      "X: [0 0], True: 0, Predicted: [0]\n",
      "X: [0 1], True: 1, Predicted: [1]\n",
      "X: [1 0], True: 1, Predicted: [1]\n",
      "X: [1 1], True: 1, Predicted: [1]\n"
     ]
    },
    {
     "name": "stderr",
     "output_type": "stream",
     "text": [
      "/var/folders/z4/7np1khpd4hv91y__r6wtydmm0000gn/T/ipykernel_40523/1847892347.py:27: DeprecationWarning: Conversion of an array with ndim > 0 to a scalar is deprecated, and will error in future. Ensure you extract a single element from your array before performing this operation. (Deprecated NumPy 1.25.)\n",
      "  self.weights[ind] = self.weights[ind] + self.lr * (y_true - y_pred) * x\n"
     ]
    }
   ],
   "source": [
    "or_gate = Perceptron(lr=0.1)\n",
    "or_gate_inp = np.array([[0,0],[0,1],[1,0],[1,1]])\n",
    "or_gate_op = np.array([0,1,1,1])\n",
    "or_gate.fit(or_gate_inp,or_gate_op,epochs=10)"
   ]
  },
  {
   "cell_type": "code",
   "execution_count": 21,
   "metadata": {},
   "outputs": [
    {
     "name": "stdout",
     "output_type": "stream",
     "text": [
      "Epoch: 1/10------------------------------\n",
      "X: [1], True: 0, Predicted: [1]\n",
      "Weights: [0.07957931] and Bias: [0.0584121]\n",
      "X: [0], True: 1, Predicted: [1]\n",
      "Epoch: 2/10------------------------------\n",
      "X: [1], True: 0, Predicted: [1]\n",
      "Weights: [-0.02042069] and Bias: [-0.0415879]\n",
      "X: [0], True: 1, Predicted: [0]\n",
      "Weights: [-0.02042069] and Bias: [0.0584121]\n",
      "Epoch: 3/10------------------------------\n",
      "X: [1], True: 0, Predicted: [1]\n",
      "Weights: [-0.12042069] and Bias: [-0.0415879]\n",
      "X: [0], True: 1, Predicted: [0]\n",
      "Weights: [-0.12042069] and Bias: [0.0584121]\n",
      "Epoch: 4/10------------------------------\n",
      "X: [1], True: 0, Predicted: [0]\n",
      "X: [0], True: 1, Predicted: [1]\n",
      "Epoch: 5/10------------------------------\n",
      "X: [1], True: 0, Predicted: [0]\n",
      "X: [0], True: 1, Predicted: [1]\n",
      "Epoch: 6/10------------------------------\n",
      "X: [1], True: 0, Predicted: [0]\n",
      "X: [0], True: 1, Predicted: [1]\n",
      "Epoch: 7/10------------------------------\n",
      "X: [1], True: 0, Predicted: [0]\n",
      "X: [0], True: 1, Predicted: [1]\n",
      "Epoch: 8/10------------------------------\n",
      "X: [1], True: 0, Predicted: [0]\n",
      "X: [0], True: 1, Predicted: [1]\n",
      "Epoch: 9/10------------------------------\n",
      "X: [1], True: 0, Predicted: [0]\n",
      "X: [0], True: 1, Predicted: [1]\n",
      "Epoch: 10/10------------------------------\n",
      "X: [1], True: 0, Predicted: [0]\n",
      "X: [0], True: 1, Predicted: [1]\n"
     ]
    },
    {
     "name": "stderr",
     "output_type": "stream",
     "text": [
      "/var/folders/z4/7np1khpd4hv91y__r6wtydmm0000gn/T/ipykernel_40523/1847892347.py:27: DeprecationWarning: Conversion of an array with ndim > 0 to a scalar is deprecated, and will error in future. Ensure you extract a single element from your array before performing this operation. (Deprecated NumPy 1.25.)\n",
      "  self.weights[ind] = self.weights[ind] + self.lr * (y_true - y_pred) * x\n"
     ]
    }
   ],
   "source": [
    "not_gate = Perceptron(lr=0.1)\n",
    "not_gate_inp = np.array([[1],[0]])\n",
    "not_gate_op = np.array([0,1])\n",
    "not_gate.fit(not_gate_inp,not_gate_op,epochs=10)"
   ]
  },
  {
   "cell_type": "code",
   "execution_count": 31,
   "metadata": {},
   "outputs": [
    {
     "data": {
      "text/plain": [
       "array([1])"
      ]
     },
     "execution_count": 31,
     "metadata": {},
     "output_type": "execute_result"
    }
   ],
   "source": [
    "np.array([X[1]])"
   ]
  },
  {
   "cell_type": "code",
   "execution_count": 50,
   "metadata": {},
   "outputs": [
    {
     "name": "stdout",
     "output_type": "stream",
     "text": [
      "[0]\n"
     ]
    }
   ],
   "source": [
    "# X1 or ^X2\n",
    "X = np.array([1,1])\n",
    "\n",
    "y1 = and_gate.predict(np.array([X[0], not_gate.predict([X[1]])[0]]))\n",
    "y2 = and_gate.predict(np.array([X[1], not_gate.predict([X[0]])[0]]))\n",
    "y = or_gate.predict([y1[0],y2[0]])\n",
    "print(y)"
   ]
  },
  {
   "cell_type": "code",
   "execution_count": null,
   "metadata": {},
   "outputs": [],
   "source": []
  }
 ],
 "metadata": {
  "kernelspec": {
   "display_name": "Python 3",
   "language": "python",
   "name": "python3"
  },
  "language_info": {
   "codemirror_mode": {
    "name": "ipython",
    "version": 3
   },
   "file_extension": ".py",
   "mimetype": "text/x-python",
   "name": "python",
   "nbconvert_exporter": "python",
   "pygments_lexer": "ipython3",
   "version": "3.9.6"
  }
 },
 "nbformat": 4,
 "nbformat_minor": 2
}
