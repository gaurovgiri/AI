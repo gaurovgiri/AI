{
 "cells": [
  {
   "cell_type": "markdown",
   "metadata": {},
   "source": [
    "# Perceptron\n",
    "\n",
    "## Algorithm\n",
    "\n",
    "1. Initialization\n",
    "2. Activation\n",
    "3. Weight Update\n",
    "4. Iteration"
   ]
  },
  {
   "cell_type": "code",
   "execution_count": 3,
   "metadata": {},
   "outputs": [],
   "source": [
    "import numpy as np"
   ]
  },
  {
   "cell_type": "code",
   "execution_count": 4,
   "metadata": {},
   "outputs": [],
   "source": [
    "def activation(x):\n",
    "    return np.where(x>0,1,0)"
   ]
  },
  {
   "cell_type": "code",
   "execution_count": 2,
   "metadata": {},
   "outputs": [],
   "source": [
    "class Perceptron:\n",
    "    def __init__(self, lr=0.01, n_iters=100, error_threshold=0.01) -> None:\n",
    "        self.lr = lr\n",
    "        self.n_iters = n_iters\n",
    "        self.error_threshold = error_threshold\n",
    "        self.activation_function = activation\n",
    "        self.weights = None\n",
    "        self.bias = None\n",
    "    \n",
    "    def fit(self, X, y):\n",
    "        n_sample, n_features = X.shape\n",
    "        self.weights = np.zeros(n_features)\n",
    "        self.bias = 0\n",
    "\n",
    "        _y = np.where(y>0,1,0)\n",
    "\n",
    "        for _ in range(self.n_iters):\n",
    "            error = 0\n",
    "            for idx, x_i in enumerate(X):\n",
    "                z = (x_i @ self.weights) + self.bias\n",
    "                y_pred = self.activation_function(z)\n",
    "                w_new = self.lr * (_y[idx] - y_pred)\n",
    "\n",
    "                self.weights *= w_new * x_i\n",
    "                self.bias += w_new\n",
    "\n",
    "                error += abs(_y[idx] - y_pred)\n",
    "\n",
    "            if error < self.error_threshold:\n",
    "                break\n",
    "    \n",
    "    def predict(self, X):\n",
    "        output = X @ self.weights + self.bias\n",
    "        y_pred = self.activation_function(output)\n",
    "        return y_pred"
   ]
  }
 ],
 "metadata": {
  "kernelspec": {
   "display_name": "venv",
   "language": "python",
   "name": "python3"
  },
  "language_info": {
   "codemirror_mode": {
    "name": "ipython",
    "version": 3
   },
   "file_extension": ".py",
   "mimetype": "text/x-python",
   "name": "python",
   "nbconvert_exporter": "python",
   "pygments_lexer": "ipython3",
   "version": "3.9.6"
  }
 },
 "nbformat": 4,
 "nbformat_minor": 2
}
