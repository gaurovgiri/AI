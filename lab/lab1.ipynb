{
 "cells": [
  {
   "cell_type": "markdown",
   "metadata": {},
   "source": [
    "# LAB-1 : Introduction to Python"
   ]
  },
  {
   "cell_type": "markdown",
   "metadata": {},
   "source": [
    "## Data-Structures in Python\n",
    "\n",
    "Data Structures are the way of storing related datas so that similar operations can be performed.\n",
    "We will be discussing about List, Tuple, Dictionary."
   ]
  },
  {
   "cell_type": "markdown",
   "metadata": {},
   "source": [
    "### 1. List"
   ]
  },
  {
   "cell_type": "code",
   "execution_count": 33,
   "metadata": {},
   "outputs": [
    {
     "name": "stdout",
     "output_type": "stream",
     "text": [
      "list_1: [1, 2, 3, 4, 5]\n",
      "list_2: [1, 2, 'Gaurav']\n"
     ]
    }
   ],
   "source": [
    "list_1 = [1,2,3,4,5]\n",
    "list_2 = [1,2,\"Gaurav\"]\n",
    "print(f\"list_1: {list_1}\")\n",
    "print(f\"list_2: {list_2}\")"
   ]
  },
  {
   "cell_type": "markdown",
   "metadata": {},
   "source": [
    "<b>Question: From a string of characters, count the frequency of each letters?</b>"
   ]
  },
  {
   "cell_type": "markdown",
   "metadata": {},
   "source": [
    "Method-I"
   ]
  },
  {
   "cell_type": "code",
   "execution_count": 2,
   "metadata": {},
   "outputs": [
    {
     "name": "stdout",
     "output_type": "stream",
     "text": [
      "{'a': 1, 'p': 2, 'l': 1, 'e': 1}\n"
     ]
    }
   ],
   "source": [
    "input_string = \"apple\"\n",
    "character_freq = {}\n",
    "\n",
    "for char in input_string:\n",
    "    if char in character_freq.keys():\n",
    "        character_freq[char] += 1\n",
    "    else:\n",
    "        character_freq[char] = 1\n",
    "print(character_freq)"
   ]
  },
  {
   "cell_type": "markdown",
   "metadata": {},
   "source": [
    "Method-II\n"
   ]
  },
  {
   "cell_type": "code",
   "execution_count": 3,
   "metadata": {},
   "outputs": [
    {
     "name": "stdout",
     "output_type": "stream",
     "text": [
      "Counter({'p': 2, 'a': 1, 'l': 1, 'e': 1})\n"
     ]
    }
   ],
   "source": [
    "from collections import Counter\n",
    "\n",
    "output_dict = Counter(input_string)\n",
    "print(output_dict)"
   ]
  },
  {
   "cell_type": "markdown",
   "metadata": {},
   "source": [
    "Method-III"
   ]
  },
  {
   "cell_type": "code",
   "execution_count": 7,
   "metadata": {},
   "outputs": [
    {
     "name": "stdout",
     "output_type": "stream",
     "text": [
      "{'e': 1, 'p': 2, 'l': 1, 'a': 1}\n"
     ]
    }
   ],
   "source": [
    "set_of_char = set(input_string)\n",
    "character_freq = {}\n",
    "\n",
    "for char in set_of_char:\n",
    "    character_freq[char] = input_string.count(char)\n",
    "\n",
    "print(character_freq)"
   ]
  },
  {
   "cell_type": "markdown",
   "metadata": {},
   "source": [
    "## Pandas"
   ]
  },
  {
   "cell_type": "markdown",
   "metadata": {},
   "source": [
    "<b>Question: Create a pandas dataframe from numpy, store it as CSV and read back with pandas</b>"
   ]
  },
  {
   "cell_type": "code",
   "execution_count": 10,
   "metadata": {},
   "outputs": [],
   "source": [
    "import pandas as pd\n",
    "import numpy as np"
   ]
  },
  {
   "cell_type": "code",
   "execution_count": 17,
   "metadata": {},
   "outputs": [],
   "source": [
    "data = np.random.rand(10,4)"
   ]
  },
  {
   "cell_type": "code",
   "execution_count": 25,
   "metadata": {},
   "outputs": [
    {
     "data": {
      "text/html": [
       "<div>\n",
       "<style scoped>\n",
       "    .dataframe tbody tr th:only-of-type {\n",
       "        vertical-align: middle;\n",
       "    }\n",
       "\n",
       "    .dataframe tbody tr th {\n",
       "        vertical-align: top;\n",
       "    }\n",
       "\n",
       "    .dataframe thead th {\n",
       "        text-align: right;\n",
       "    }\n",
       "</style>\n",
       "<table border=\"1\" class=\"dataframe\">\n",
       "  <thead>\n",
       "    <tr style=\"text-align: right;\">\n",
       "      <th></th>\n",
       "      <th>a</th>\n",
       "      <th>b</th>\n",
       "      <th>c</th>\n",
       "      <th>d</th>\n",
       "    </tr>\n",
       "  </thead>\n",
       "  <tbody>\n",
       "    <tr>\n",
       "      <th>0</th>\n",
       "      <td>0.499968</td>\n",
       "      <td>0.294237</td>\n",
       "      <td>0.128515</td>\n",
       "      <td>0.562224</td>\n",
       "    </tr>\n",
       "    <tr>\n",
       "      <th>1</th>\n",
       "      <td>0.812394</td>\n",
       "      <td>0.201694</td>\n",
       "      <td>0.356946</td>\n",
       "      <td>0.655741</td>\n",
       "    </tr>\n",
       "    <tr>\n",
       "      <th>2</th>\n",
       "      <td>0.716161</td>\n",
       "      <td>0.949434</td>\n",
       "      <td>0.449961</td>\n",
       "      <td>0.148464</td>\n",
       "    </tr>\n",
       "    <tr>\n",
       "      <th>3</th>\n",
       "      <td>0.327870</td>\n",
       "      <td>0.769751</td>\n",
       "      <td>0.239381</td>\n",
       "      <td>0.528516</td>\n",
       "    </tr>\n",
       "    <tr>\n",
       "      <th>4</th>\n",
       "      <td>0.309326</td>\n",
       "      <td>0.247444</td>\n",
       "      <td>0.160767</td>\n",
       "      <td>0.506881</td>\n",
       "    </tr>\n",
       "    <tr>\n",
       "      <th>5</th>\n",
       "      <td>0.998146</td>\n",
       "      <td>0.956276</td>\n",
       "      <td>0.407919</td>\n",
       "      <td>0.596667</td>\n",
       "    </tr>\n",
       "    <tr>\n",
       "      <th>6</th>\n",
       "      <td>0.739006</td>\n",
       "      <td>0.585660</td>\n",
       "      <td>0.395550</td>\n",
       "      <td>0.934634</td>\n",
       "    </tr>\n",
       "    <tr>\n",
       "      <th>7</th>\n",
       "      <td>0.461526</td>\n",
       "      <td>0.821080</td>\n",
       "      <td>0.179513</td>\n",
       "      <td>0.667303</td>\n",
       "    </tr>\n",
       "    <tr>\n",
       "      <th>8</th>\n",
       "      <td>0.696124</td>\n",
       "      <td>0.036770</td>\n",
       "      <td>0.031059</td>\n",
       "      <td>0.690831</td>\n",
       "    </tr>\n",
       "    <tr>\n",
       "      <th>9</th>\n",
       "      <td>0.351090</td>\n",
       "      <td>0.842362</td>\n",
       "      <td>0.253007</td>\n",
       "      <td>0.280012</td>\n",
       "    </tr>\n",
       "  </tbody>\n",
       "</table>\n",
       "</div>"
      ],
      "text/plain": [
       "          a         b         c         d\n",
       "0  0.499968  0.294237  0.128515  0.562224\n",
       "1  0.812394  0.201694  0.356946  0.655741\n",
       "2  0.716161  0.949434  0.449961  0.148464\n",
       "3  0.327870  0.769751  0.239381  0.528516\n",
       "4  0.309326  0.247444  0.160767  0.506881\n",
       "5  0.998146  0.956276  0.407919  0.596667\n",
       "6  0.739006  0.585660  0.395550  0.934634\n",
       "7  0.461526  0.821080  0.179513  0.667303\n",
       "8  0.696124  0.036770  0.031059  0.690831\n",
       "9  0.351090  0.842362  0.253007  0.280012"
      ]
     },
     "execution_count": 25,
     "metadata": {},
     "output_type": "execute_result"
    }
   ],
   "source": [
    "df = pd.DataFrame(data, columns=[\"a\",\"b\",\"c\",\"d\"])\n",
    "df"
   ]
  },
  {
   "cell_type": "markdown",
   "metadata": {},
   "source": [
    "Writing to File"
   ]
  },
  {
   "cell_type": "code",
   "execution_count": 26,
   "metadata": {},
   "outputs": [],
   "source": [
    "df.to_csv(\"lab1_pandas.csv\")"
   ]
  },
  {
   "cell_type": "markdown",
   "metadata": {},
   "source": [
    "Reading from File"
   ]
  },
  {
   "cell_type": "code",
   "execution_count": 39,
   "metadata": {},
   "outputs": [
    {
     "data": {
      "text/html": [
       "<div>\n",
       "<style scoped>\n",
       "    .dataframe tbody tr th:only-of-type {\n",
       "        vertical-align: middle;\n",
       "    }\n",
       "\n",
       "    .dataframe tbody tr th {\n",
       "        vertical-align: top;\n",
       "    }\n",
       "\n",
       "    .dataframe thead th {\n",
       "        text-align: right;\n",
       "    }\n",
       "</style>\n",
       "<table border=\"1\" class=\"dataframe\">\n",
       "  <thead>\n",
       "    <tr style=\"text-align: right;\">\n",
       "      <th></th>\n",
       "      <th>a</th>\n",
       "      <th>b</th>\n",
       "      <th>c</th>\n",
       "      <th>d</th>\n",
       "    </tr>\n",
       "  </thead>\n",
       "  <tbody>\n",
       "    <tr>\n",
       "      <th>0</th>\n",
       "      <td>0.499968</td>\n",
       "      <td>0.294237</td>\n",
       "      <td>0.128515</td>\n",
       "      <td>0.562224</td>\n",
       "    </tr>\n",
       "    <tr>\n",
       "      <th>1</th>\n",
       "      <td>0.812394</td>\n",
       "      <td>0.201694</td>\n",
       "      <td>0.356946</td>\n",
       "      <td>0.655741</td>\n",
       "    </tr>\n",
       "    <tr>\n",
       "      <th>2</th>\n",
       "      <td>0.716161</td>\n",
       "      <td>0.949434</td>\n",
       "      <td>0.449961</td>\n",
       "      <td>0.148464</td>\n",
       "    </tr>\n",
       "    <tr>\n",
       "      <th>3</th>\n",
       "      <td>0.327870</td>\n",
       "      <td>0.769751</td>\n",
       "      <td>0.239381</td>\n",
       "      <td>0.528516</td>\n",
       "    </tr>\n",
       "    <tr>\n",
       "      <th>4</th>\n",
       "      <td>0.309326</td>\n",
       "      <td>0.247444</td>\n",
       "      <td>0.160767</td>\n",
       "      <td>0.506881</td>\n",
       "    </tr>\n",
       "    <tr>\n",
       "      <th>5</th>\n",
       "      <td>0.998146</td>\n",
       "      <td>0.956276</td>\n",
       "      <td>0.407919</td>\n",
       "      <td>0.596667</td>\n",
       "    </tr>\n",
       "    <tr>\n",
       "      <th>6</th>\n",
       "      <td>0.739006</td>\n",
       "      <td>0.585660</td>\n",
       "      <td>0.395550</td>\n",
       "      <td>0.934634</td>\n",
       "    </tr>\n",
       "    <tr>\n",
       "      <th>7</th>\n",
       "      <td>0.461526</td>\n",
       "      <td>0.821080</td>\n",
       "      <td>0.179513</td>\n",
       "      <td>0.667303</td>\n",
       "    </tr>\n",
       "    <tr>\n",
       "      <th>8</th>\n",
       "      <td>0.696124</td>\n",
       "      <td>0.036770</td>\n",
       "      <td>0.031059</td>\n",
       "      <td>0.690831</td>\n",
       "    </tr>\n",
       "    <tr>\n",
       "      <th>9</th>\n",
       "      <td>0.351090</td>\n",
       "      <td>0.842362</td>\n",
       "      <td>0.253007</td>\n",
       "      <td>0.280012</td>\n",
       "    </tr>\n",
       "  </tbody>\n",
       "</table>\n",
       "</div>"
      ],
      "text/plain": [
       "          a         b         c         d\n",
       "0  0.499968  0.294237  0.128515  0.562224\n",
       "1  0.812394  0.201694  0.356946  0.655741\n",
       "2  0.716161  0.949434  0.449961  0.148464\n",
       "3  0.327870  0.769751  0.239381  0.528516\n",
       "4  0.309326  0.247444  0.160767  0.506881\n",
       "5  0.998146  0.956276  0.407919  0.596667\n",
       "6  0.739006  0.585660  0.395550  0.934634\n",
       "7  0.461526  0.821080  0.179513  0.667303\n",
       "8  0.696124  0.036770  0.031059  0.690831\n",
       "9  0.351090  0.842362  0.253007  0.280012"
      ]
     },
     "execution_count": 39,
     "metadata": {},
     "output_type": "execute_result"
    }
   ],
   "source": [
    "df_read = pd.read_csv(\"lab1_pandas.csv\",index_col=0)\n",
    "df_read"
   ]
  }
 ],
 "metadata": {
  "kernelspec": {
   "display_name": "Python 3",
   "language": "python",
   "name": "python3"
  },
  "language_info": {
   "codemirror_mode": {
    "name": "ipython",
    "version": 3
   },
   "file_extension": ".py",
   "mimetype": "text/x-python",
   "name": "python",
   "nbconvert_exporter": "python",
   "pygments_lexer": "ipython3",
   "version": "3.9.6"
  }
 },
 "nbformat": 4,
 "nbformat_minor": 2
}
